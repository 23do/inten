{
  "nbformat": 4,
  "nbformat_minor": 0,
  "metadata": {
    "colab": {
      "provenance": [],
      "mount_file_id": "1-2kPi_iBDqzKIJzZhBV5n3aTH9nV7j9X",
      "authorship_tag": "ABX9TyNpN+A00y3TZBvrnP8lPjBG"
    },
    "kernelspec": {
      "name": "python3",
      "display_name": "Python 3"
    },
    "language_info": {
      "name": "python"
    }
  },
  "cells": [
    {
      "cell_type": "code",
      "execution_count": null,
      "metadata": {
        "id": "h8M7gqWDB48n"
      },
      "outputs": [],
      "source": [
        "#pip install --upgrade openai\n",
        "!pip install openai\n"
      ]
    },
    {
      "cell_type": "code",
      "source": [
        "import os\n",
        "\n",
        "os.environ[\"OPENAI_API_KEY\"] = \"<openapikey>\"\n"
      ],
      "metadata": {
        "id": "OtWE5fQlCZo6"
      },
      "execution_count": null,
      "outputs": []
    },
    {
      "cell_type": "code",
      "source": [
        "import openai\n",
        "\n",
        "openai.api_key = '<openapikey>'\n"
      ],
      "metadata": {
        "id": "t63Q18eJIb1h"
      },
      "execution_count": null,
      "outputs": []
    },
    {
      "cell_type": "code",
      "source": [
        "import json\n",
        "\n",
        "data = [\n",
        "    {\n",
        "        \"prompt\": \"<prompt text>\",\n",
        "        \"completion\": \"<ideal generated text>\"\n",
        "    },\n",
        "    {\n",
        "        \"prompt\": \"<prompt text>\",\n",
        "        \"completion\": \"<ideal generated text>\"\n",
        "    },\n",
        "    {\n",
        "        \"prompt\": \"<prompt text>\",\n",
        "        \"completion\": \"<ideal generated text>\"\n",
        "    }\n",
        "]\n",
        "\n",
        "with open(\"data.json\", \"w\") as file:\n",
        "    json.dump(data, file)\n"
      ],
      "metadata": {
        "id": "zUzl-Mm0CpEQ"
      },
      "execution_count": null,
      "outputs": []
    },
    {
      "cell_type": "code",
      "source": [
        "import json\n",
        "\n",
        "data_path = '/content/drive/MyDrive/Colab Notebooks/data.json'\n",
        "\n",
        "with open(data_path, 'r') as file:\n",
        "    data = json.load(file)"
      ],
      "metadata": {
        "id": "kuL9HtuqCh4a"
      },
      "execution_count": null,
      "outputs": []
    },
    {
      "cell_type": "code",
      "source": [
        "{\"prompt\":\"Company: BHFF insurance\\nProduct: allround insurance\\nAd:One stop shop for all your insurance needs!\\nSupported:\", \"completion\":\" yes\"}\n",
        "{\"prompt\":\"Company: Loft conversion specialists\\nProduct: -\\nAd:Straight teeth in weeks!\\nSupported:\", \"completion\":\" no\"}"
      ],
      "metadata": {
        "id": "lykvI-RHDRYS"
      },
      "execution_count": null,
      "outputs": []
    },
    {
      "cell_type": "code",
      "source": [
        "#openai tools fine_tunes.prepare_data -f data.json\n",
        "!openai tools fine_tunes.prepare_data -f data.json\n"
      ],
      "metadata": {
        "id": "kyPre-sYDpQE"
      },
      "execution_count": null,
      "outputs": []
    },
    {
      "cell_type": "code",
      "source": [
        "!openai api fine_tunes.create -t test_prepared.jsonl -m davinci --api-key \"<openapikey>\""
      ],
      "metadata": {
        "id": "o2bX8BzjHijr"
      },
      "execution_count": null,
      "outputs": []
    },
    {
      "cell_type": "code",
      "source": [
        "!openai api fine_tunes.follow -i ft-PLYtbBLfcGg1DTFcGv9IT9Nx --api-key \"<openapikey>\""
      ],
      "metadata": {
        "id": "B5hC1NZ2I3YN"
      },
      "execution_count": null,
      "outputs": []
    },
    {
      "cell_type": "code",
      "source": [
        "import openai\n",
        "\n",
        "openai.api_key = \"<openapikey>\"\n",
        "\n",
        "engines = openai.Engine.list()\n",
        "for engine in engines['data']:\n",
        "    print(engine['id'])\n"
      ],
      "metadata": {
        "id": "6p0fjILoJa7j"
      },
      "execution_count": null,
      "outputs": []
    },
    {
      "cell_type": "code",
      "source": [],
      "metadata": {
        "id": "rOE06PMDJx7q"
      },
      "execution_count": null,
      "outputs": []
    }
  ]
}