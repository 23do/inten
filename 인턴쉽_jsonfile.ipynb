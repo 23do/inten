{
  "cells": [
    {
      "cell_type": "code",
      "execution_count": null,
      "metadata": {
        "colab": {
          "base_uri": "https://localhost:8080/"
        },
        "id": "eVASDsqJ0ABO",
        "outputId": "ac92af0c-ee64-46ee-e0c2-414dd5762046"
      },
      "outputs": [
        {
          "name": "stdout",
          "output_type": "stream",
          "text": [
            "JSON 파일이 성공적으로 저장되었습니다.\n"
          ]
        }
      ],
      "source": [
        "import json\n",
        "\n",
        "# 저장할 데이터\n",
        "data = {\n",
        "    \"key1\": \"value1\",\n",
        "    \"key2\": \"value2\",\n",
        "    \"key3\": \"value3\"\n",
        "}\n",
        "\n",
        "# 저장할 폴더 경로 및 파일 이름\n",
        "folder_path = \"/content/drive/MyDrive/Colab Notebooks\"\n",
        "file_name = \"data.json\"\n",
        "\n",
        "# JSON 파일 저장 경로\n",
        "file_path = folder_path + \"/\" + file_name\n",
        "\n",
        "# 데이터를 JSON 형식으로 변환하여 파일에 저장\n",
        "with open(file_path, \"w\") as file:\n",
        "    json.dump(data, file)\n",
        "\n",
        "print(\"JSON 파일이 성공적으로 저장되었습니다.\")\n"
      ]
    },
    {
      "cell_type": "code",
      "execution_count": null,
      "metadata": {
        "colab": {
          "base_uri": "https://localhost:8080/"
        },
        "id": "NaB41XYz0mu_",
        "outputId": "1bbc291e-21bb-41fd-edfd-f6df4a8936e5"
      },
      "outputs": [
        {
          "name": "stdout",
          "output_type": "stream",
          "text": [
            "JSON 파일이 성공적으로 저장되었습니다.\n"
          ]
        }
      ],
      "source": [
        "import json\n",
        "# 저장할 데이터\n",
        "data={\n",
        "    \"schema_version\": \"v1\",\n",
        "    \"name_for_human\": \"TODO OAuth\",\n",
        "    \"name_for_model\": \"todo_oauth\",\n",
        "    \"description_for_human\": \"Plugin for managing a TODO list, you can add, remove and view your TODOs.\",\n",
        "    \"description_for_model\": \"Plugin for managing a TODO list, you can add, remove and view your TODOs.\",\n",
        "    \"auth\": {\n",
        "        \"type\": \"oauth\",\n",
        "        \"client_url\": \"PLUGIN_HOSTNAME/oauth\",\n",
        "        \"scope\": \"\",\n",
        "        \"authorization_url\": \"PLUGIN_HOSTNAME/auth/oauth_exchange\",\n",
        "        \"authorization_content_type\": \"application/json\",\n",
        "        \"verification_tokens\": {\n",
        "            \"openai\": \"Replace_this_string_with_the_verification_token_generated_in_the_ChatGPT_UI\"\n",
        "        }\n",
        "    },\n",
        "    \"api\": {\n",
        "        \"type\": \"openapi\",\n",
        "        \"url\": \"PLUGIN_HOSTNAME/openapi.yaml\",\n",
        "        \"is_user_authenticated\": False\n",
        "    },\n",
        "    \"logo_url\": \"PLUGIN_HOSTNAME/logo.png\",\n",
        "    \"contact_email\": \"contact@example.com\",\n",
        "    \"legal_info_url\": \"http://www.example.com/legal\"\n",
        "}\n",
        "# 저장할 폴더 경로 및 파일 이름\n",
        "folder_path = \"/content/drive/MyDrive/Colab Notebooks/well-known\"\n",
        "file_name = \"ai-plugin.json\"\n",
        "\n",
        "# JSON 파일 저장 경로\n",
        "file_path = folder_path + \"/\" + file_name\n",
        "\n",
        "# 데이터를 JSON 형식으로 변환하여 파일에 저장\n",
        "with open(file_path, \"w\") as file:\n",
        "    json.dump(data, file)\n",
        "\n",
        "print(\"JSON 파일이 성공적으로 저장되었습니다.\")"
      ]
    },
    {
      "cell_type": "code",
      "execution_count": null,
      "metadata": {
        "colab": {
          "base_uri": "https://localhost:8080/"
        },
        "id": "mt4U9KlN79H0",
        "outputId": "ad01f367-e88d-4ec4-f66a-e5dd6471cf25"
      },
      "outputs": [
        {
          "name": "stdout",
          "output_type": "stream",
          "text": [
            "Looking in indexes: https://pypi.org/simple, https://us-python.pkg.dev/colab-wheels/public/simple/\n",
            "Requirement already satisfied: pyyaml in /usr/local/lib/python3.10/dist-packages (6.0)\n",
            "Looking in indexes: https://pypi.org/simple, https://us-python.pkg.dev/colab-wheels/public/simple/\n",
            "Requirement already satisfied: pyyaml in /usr/local/lib/python3.10/dist-packages (6.0)\n",
            "YAML 파일이 생성되었습니다.\n"
          ]
        }
      ],
      "source": [
        "from typing_extensions import Required\n",
        "from IPython.terminal.interactiveshell import Integer\n",
        "!pip install pyyaml\n",
        "import yaml# 필요한 패키지 설치\n",
        "!pip install pyyaml\n",
        "# YAML 파일 내용\n",
        "yaml_content = '''\n",
        "openapi: 3.0.1\n",
        "info:\n",
        "  title: TODO Plugin\n",
        "  description: A plugin that allows the user to create and manage a TODO list using ChatGPT. If you do not know the user's username, ask them first before making queries to the plugin. Otherwise, use the username \"global\".\n",
        "  version: \"v1\"\n",
        "servers:\n",
        "  - url: PLUGIN_HOSTNAME\n",
        "paths:\n",
        "  /todos/{username}:\n",
        "    get:\n",
        "      operationId: getTodos\n",
        "      summary: Get the list of todos\n",
        "      parameters:\n",
        "        - in: path\n",
        "          name: username\n",
        "          schema:\n",
        "            type: string\n",
        "          required: true\n",
        "          description: The name of the user.\n",
        "      responses:\n",
        "        \"200\":\n",
        "          description: OK\n",
        "          content:\n",
        "            application/json:\n",
        "              schema:\n",
        "                $ref: \"#/components/schemas/getTodosResponse\"\n",
        "    post:\n",
        "      operationId: addTodo\n",
        "      summary: Add a todo to the list\n",
        "      parameters:\n",
        "        - in: path\n",
        "          name: username\n",
        "          schema:\n",
        "            type: string\n",
        "          required: true\n",
        "          description: The name of the user.\n",
        "      requestBody:\n",
        "        required: true\n",
        "        content:\n",
        "          application/json:\n",
        "            schema:\n",
        "              $ref: \"#/components/schemas/addTodoRequest\"\n",
        "      responses:\n",
        "        \"200\":\n",
        "          description: OK\n",
        "    delete:\n",
        "      operationId: deleteTodo\n",
        "      summary: Delete a todo from the list\n",
        "      parameters:\n",
        "        - in: path\n",
        "          name: username\n",
        "          schema:\n",
        "            type: string\n",
        "          required: true\n",
        "          description: The name of the user.\n",
        "      requestBody:\n",
        "        required: true\n",
        "        content:\n",
        "          application/json:\n",
        "            schema:\n",
        "              $ref: \"#/components/schemas/deleteTodoRequest\"\n",
        "      responses:\n",
        "        \"200\":\n",
        "          description: OK\n",
        "\n",
        "components:\n",
        "  schemas:\n",
        "    getTodosResponse:\n",
        "      type: object\n",
        "      properties:\n",
        "        todos:\n",
        "          type: array\n",
        "          items:\n",
        "            type: string\n",
        "          description: The list of todos.\n",
        "    addTodoRequest:\n",
        "      type: object\n",
        "      required:\n",
        "        - todo\n",
        "      properties:\n",
        "        todo:\n",
        "          type: string\n",
        "          description: The todo to add to the list.\n",
        "          required: true\n",
        "    deleteTodoRequest:\n",
        "      type: object\n",
        "      required:\n",
        "        - todo_idx\n",
        "      properties:\n",
        "        todo_idx:\n",
        "          type: integer\n",
        "          description: The index of the todo to delete.\n",
        "          required: true\n",
        "'''\n",
        "\n",
        "# YAML 파일 생성\n",
        "folder_path = \"/content/drive/MyDrive/Colab Notebooks/well-known\"\n",
        "file_name = \"your_file.yaml\"\n",
        "\n",
        "# JSON 파일 저장 경로\n",
        "file_path = folder_path + \"/\" + file_name\n",
        "\n",
        "with open(file_path, \"w\") as file:\n",
        "    file.write(yaml_content)\n",
        "\n",
        "print(\"YAML 파일이 생성되었습니다.\")\n"
      ]
    },
    {
      "cell_type": "code",
      "execution_count": null,
      "metadata": {
        "id": "7cHPqwM_99Ye"
      },
      "outputs": [],
      "source": [
        "#!pip install openapi-python-client\n",
        "#import openapi_python_client\n",
        "\n",
        "## YAML 파일 경로\n",
        "#folder_path = \"/content/drive/MyDrive/Colab Notebooks/well-known\"\n",
        "#file_name = \"your_file.yaml\"\n",
        "\n",
        "## JSON 파일 저장 경로\n",
        "#yaml_file= folder_path + \"/\" + file_name\n",
        "\n",
        "## Python 클라이언트 생성\n",
        "#client = openapi_python_client.from_path(yaml_file, \"your_path\")##\"어떤 형식으로 쓰는 게 좋을 지 모르겠음\"\n",
        "\n",
        "## 클라이언트 코드 생성\n",
        "#client.generate()\n",
        "\n",
        "## 생성된 코드 출력\n",
        "#print(client)\n",
        "\n",
        "## 클라이언트 코드 저장\n",
        "#client.save(output_directory=\"output_directory\")\n"
      ]
    },
    {
      "cell_type": "code",
      "execution_count": null,
      "metadata": {
        "id": "x1fg3K9_BhAO"
      },
      "outputs": [],
      "source": []
    }
  ],
  "metadata": {
    "colab": {
      "provenance": []
    },
    "kernelspec": {
      "display_name": "Python 3",
      "name": "python3"
    },
    "language_info": {
      "name": "python"
    }
  },
  "nbformat": 4,
  "nbformat_minor": 0
}
